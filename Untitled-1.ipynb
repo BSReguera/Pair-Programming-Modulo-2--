{
 "cells": [
  {
   "cell_type": "markdown",
   "metadata": {},
   "source": [
    "# PAIR PROGRAMMING- GESTIÓN DE FICHEROS \n",
    "MODULO 2\n",
    "\n",
    "1. Hacer las importaciones necesarias para abrir un archivo de tipo \"csv\" en Pandas.\n",
    "2. Abrir el archivo, creando un Dataframe. Aseguraros de que no incluye la columna \"Unnamed: 0\".\n",
    "3. Una vez creado el Dataframe, muestra las 10 primeras filas.\n",
    "4. ¿Cúal es el último índice que tenemos en el Dataframe?\n",
    "5. Mostrar 15 filas aleatorias.\n",
    "6. Crea una lista con el nombre de las columnas.\n",
    "7. Guardar el Dataframe en formato Excel y después crear un Dataframe con el Excel. ¿EL Dataframe es similar al que teníais antes?\n",
    "8. Muestra la \"info\" del Dataframe.\n",
    "9. ¿Tiene nulos o duplicados?\n",
    "10. Obtener la descripción del Dataframe, tanto de las columnas numéricas cómo de las de tipo \"object\". Explorar el resultado y sacar unas mínimas comclusiones sobre los datos que habéis obtenido.\n",
    "11. Finalmente, guarda el Dataframe en formato \"csv\" con un nombre diferente del original."
   ]
  }
 ],
 "metadata": {
  "language_info": {
   "name": "python"
  }
 },
 "nbformat": 4,
 "nbformat_minor": 2
}
