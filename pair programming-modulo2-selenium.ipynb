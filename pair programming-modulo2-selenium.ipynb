{
 "cells": [
  {
   "cell_type": "markdown",
   "metadata": {},
   "source": [
    "# Programación en pareja Selenio\n",
    "-- Ejercicios Selenium Extracción de Datos de Libros de Ficción en La Casa del Libro--\n",
    "\n",
    "Imagina que eres un analista de datos en una importante cadena de librerías y tu misión es recopilar información actualizada sobre los libros de ficción disponibles en el mercado. Esta información es vital para tomar decisiones estratégicas, como determinar qué libros de ficción deben ser promocionados, ajustar los precios competitivamente y gestionar adecuadamente el inventario. La Casa del Libro es uno de los principales competidores, por lo que es esencial mantenerse al tanto de su catálogo.\n",
    "- Objetivo del Ejercicio: El objetivo de este ejercicio es que las alumnas utilicen Selenium en Python para automatizar la extracción de datos de los libros de ficción en el sitio web de La Casa del Libro. Deberán obtener información clave de los libros, incluyendo título, autor, precio, editorial, idioma y número de páginas.\n",
    "- Descripción:\n",
    "    - Acceso a la Página de La Casa del Libro: Utilizando Selenium, deberás automatizar el proceso de navegación hacia la página de libros de ficción en el sitio web de La Casa del Libro.\n",
    "    - Extracción de Datos de las 5 Primeras Páginas: Una vez en la página de libros de ficción, debes programar su script para que recorra los 5 primeros libros de libros, extrayendo los siguientes datos de cada libro:\n",
    "Título del libro.\n",
    "Autor(es) del libro.\n",
    "Precio del libro.\n",
    "Editorial del libro.\n",
    "Idioma del libro.\n",
    "Número de páginas del libro.\n",
    "    - Almacenamiento de datos: Los datos extraídos deben almacenarse en un DataFrame."
   ]
  },
  {
   "cell_type": "code",
   "execution_count": null,
   "metadata": {},
   "outputs": [],
   "source": [
    "#titulo\n",
    "#autor\n",
    "#precio\n",
    "#editorial\n",
    "#idioma\n",
    "#número de páginas\n",
    "\n",
    "# LIBROS DE FICCIÓN\n",
    "\n",
    "# 5 PRIMERAS PAGINAS\n",
    "\n",
    "# 5 primeros libros\n",
    "\n",
    "# DATA FRAME"
   ]
  },
  {
   "cell_type": "code",
   "execution_count": 1,
   "metadata": {},
   "outputs": [],
   "source": [
    "# Importar librerías para tratamiento de datos\n",
    "# -----------------------------------------------------------------------\n",
    "import pandas as pd  # Pandas es una poderosa librería para manipulación y análisis de datos en Python.\n",
    "\n",
    "# Importar librerías para web scraping y manipulación de datos\n",
    "# -----------------------------------------------------------------------\n",
    "from bs4 import BeautifulSoup\n",
    "import requests\n",
    "\n",
    "# Importar librerías para automatización de navegadores web con Selenium\n",
    "# -----------------------------------------------------------------------\n",
    "from selenium import webdriver  # Selenium es una herramienta para automatizar la interacción con navegadores web.\n",
    "from webdriver_manager.chrome import ChromeDriverManager  # ChromeDriverManager gestiona la instalación del controlador de Chrome.\n",
    "from selenium.webdriver.common.keys import Keys  # Keys es útil para simular eventos de teclado en Selenium.\n",
    "from selenium.webdriver.support.ui import Select  # Select se utiliza para interactuar con elementos <select> en páginas web.\n",
    "\n",
    "# Importar librerías para pausar la ejecución\n",
    "# -----------------------------------------------------------------------\n",
    "from time import sleep  # Sleep se utiliza para pausar la ejecución del programa por un número de segundos.\n",
    "\n",
    "# Configuraciones\n",
    "# -----------------------------------------------------------------------\n",
    "pd.set_option('display.max_columns', None)  # Establece una opción de Pandas para mostrar todas las columnas de un DataFrame.\n",
    "\n",
    "import numpy as np"
   ]
  },
  {
   "cell_type": "code",
   "execution_count": 24,
   "metadata": {},
   "outputs": [
    {
     "ename": "NoSuchElementException",
     "evalue": "Message: no such element: Unable to locate element: {\"method\":\"css selector\",\"selector\":\"#app > div.v-application--wrap > main > div > div > div > div:nth-child(1) > div > div.caracteristicas.mt-4.pt-4 > div:nth-child(3)\"}\n  (Session info: chrome=121.0.6167.185); For documentation on this error, please visit: https://www.selenium.dev/documentation/webdriver/troubleshooting/errors#no-such-element-exception\nStacktrace:\n\tGetHandleVerifier [0x00007FF7A35A7012+3522402]\n\t(No symbol) [0x00007FF7A31C8352]\n\t(No symbol) [0x00007FF7A3075ABB]\n\t(No symbol) [0x00007FF7A30BBF0E]\n\t(No symbol) [0x00007FF7A30BC08C]\n\t(No symbol) [0x00007FF7A30FE437]\n\t(No symbol) [0x00007FF7A30DF09F]\n\t(No symbol) [0x00007FF7A30FBDA3]\n\t(No symbol) [0x00007FF7A30DEE03]\n\t(No symbol) [0x00007FF7A30AF4D4]\n\t(No symbol) [0x00007FF7A30B05F1]\n\tGetHandleVerifier [0x00007FF7A35D9B9D+3730157]\n\tGetHandleVerifier [0x00007FF7A362F02D+4079485]\n\tGetHandleVerifier [0x00007FF7A36275D3+4048163]\n\tGetHandleVerifier [0x00007FF7A32FA649+718233]\n\t(No symbol) [0x00007FF7A31D4A3F]\n\t(No symbol) [0x00007FF7A31CFA94]\n\t(No symbol) [0x00007FF7A31CFBC2]\n\t(No symbol) [0x00007FF7A31BF2E4]\n\tBaseThreadInitThunk [0x00007FFEC060257D+29]\n\tRtlUserThreadStart [0x00007FFEC28AAA58+40]\n",
     "output_type": "error",
     "traceback": [
      "\u001b[1;31m---------------------------------------------------------------------------\u001b[0m",
      "\u001b[1;31mNoSuchElementException\u001b[0m                    Traceback (most recent call last)",
      "Cell \u001b[1;32mIn[24], line 62\u001b[0m\n\u001b[0;32m     59\u001b[0m \u001b[38;5;28;01mfor\u001b[39;00m f \u001b[38;5;129;01min\u001b[39;00m \u001b[38;5;28mrange\u001b[39m (\u001b[38;5;241m1\u001b[39m,\u001b[38;5;241m4\u001b[39m):\n\u001b[0;32m     61\u001b[0m     sleep(\u001b[38;5;241m3\u001b[39m) \n\u001b[1;32m---> 62\u001b[0m     diccionario_ficcion[\u001b[38;5;124m\"\u001b[39m\u001b[38;5;124midioma\u001b[39m\u001b[38;5;124m\"\u001b[39m]\u001b[38;5;241m.\u001b[39mappend(\u001b[43mdriver\u001b[49m\u001b[38;5;241;43m.\u001b[39;49m\u001b[43mfind_element\u001b[49m\u001b[43m(\u001b[49m\u001b[38;5;124;43m\"\u001b[39;49m\u001b[38;5;124;43mcss selector\u001b[39;49m\u001b[38;5;124;43m\"\u001b[39;49m\u001b[43m,\u001b[49m\u001b[43m \u001b[49m\u001b[38;5;124;43mf\u001b[39;49m\u001b[38;5;124;43m\"\u001b[39;49m\u001b[38;5;124;43m#app > div.v-application--wrap > main > div > div > div > div:nth-child(\u001b[39;49m\u001b[38;5;132;43;01m{\u001b[39;49;00m\u001b[43mf\u001b[49m\u001b[38;5;132;43;01m}\u001b[39;49;00m\u001b[38;5;124;43m) > div > div.caracteristicas.mt-4.pt-4 > div:nth-child(3)\u001b[39;49m\u001b[38;5;124;43m\"\u001b[39;49m\u001b[43m)\u001b[49m\u001b[38;5;241m.\u001b[39mtext)\n\u001b[0;32m     63\u001b[0m     \u001b[38;5;66;03m# diccionario_ficcion[\"numero_paginas\"].append(driver.find_element(\"css selector\", \"#app > div.v-application--wrap > main > div > div > div > div:nth-child(7) > div > div.caracteristicas.mt-4.pt-4 > div:nth-child(1)\").text)\u001b[39;00m\n\u001b[0;32m     65\u001b[0m     sleep(\u001b[38;5;241m3\u001b[39m)\n",
      "File \u001b[1;32m~\\AppData\\Local\\Packages\\PythonSoftwareFoundation.Python.3.11_qbz5n2kfra8p0\\LocalCache\\local-packages\\Python311\\site-packages\\selenium\\webdriver\\remote\\webdriver.py:741\u001b[0m, in \u001b[0;36mWebDriver.find_element\u001b[1;34m(self, by, value)\u001b[0m\n\u001b[0;32m    738\u001b[0m     by \u001b[38;5;241m=\u001b[39m By\u001b[38;5;241m.\u001b[39mCSS_SELECTOR\n\u001b[0;32m    739\u001b[0m     value \u001b[38;5;241m=\u001b[39m \u001b[38;5;124mf\u001b[39m\u001b[38;5;124m'\u001b[39m\u001b[38;5;124m[name=\u001b[39m\u001b[38;5;124m\"\u001b[39m\u001b[38;5;132;01m{\u001b[39;00mvalue\u001b[38;5;132;01m}\u001b[39;00m\u001b[38;5;124m\"\u001b[39m\u001b[38;5;124m]\u001b[39m\u001b[38;5;124m'\u001b[39m\n\u001b[1;32m--> 741\u001b[0m \u001b[38;5;28;01mreturn\u001b[39;00m \u001b[38;5;28;43mself\u001b[39;49m\u001b[38;5;241;43m.\u001b[39;49m\u001b[43mexecute\u001b[49m\u001b[43m(\u001b[49m\u001b[43mCommand\u001b[49m\u001b[38;5;241;43m.\u001b[39;49m\u001b[43mFIND_ELEMENT\u001b[49m\u001b[43m,\u001b[49m\u001b[43m \u001b[49m\u001b[43m{\u001b[49m\u001b[38;5;124;43m\"\u001b[39;49m\u001b[38;5;124;43musing\u001b[39;49m\u001b[38;5;124;43m\"\u001b[39;49m\u001b[43m:\u001b[49m\u001b[43m \u001b[49m\u001b[43mby\u001b[49m\u001b[43m,\u001b[49m\u001b[43m \u001b[49m\u001b[38;5;124;43m\"\u001b[39;49m\u001b[38;5;124;43mvalue\u001b[39;49m\u001b[38;5;124;43m\"\u001b[39;49m\u001b[43m:\u001b[49m\u001b[43m \u001b[49m\u001b[43mvalue\u001b[49m\u001b[43m}\u001b[49m\u001b[43m)\u001b[49m[\u001b[38;5;124m\"\u001b[39m\u001b[38;5;124mvalue\u001b[39m\u001b[38;5;124m\"\u001b[39m]\n",
      "File \u001b[1;32m~\\AppData\\Local\\Packages\\PythonSoftwareFoundation.Python.3.11_qbz5n2kfra8p0\\LocalCache\\local-packages\\Python311\\site-packages\\selenium\\webdriver\\remote\\webdriver.py:347\u001b[0m, in \u001b[0;36mWebDriver.execute\u001b[1;34m(self, driver_command, params)\u001b[0m\n\u001b[0;32m    345\u001b[0m response \u001b[38;5;241m=\u001b[39m \u001b[38;5;28mself\u001b[39m\u001b[38;5;241m.\u001b[39mcommand_executor\u001b[38;5;241m.\u001b[39mexecute(driver_command, params)\n\u001b[0;32m    346\u001b[0m \u001b[38;5;28;01mif\u001b[39;00m response:\n\u001b[1;32m--> 347\u001b[0m     \u001b[38;5;28;43mself\u001b[39;49m\u001b[38;5;241;43m.\u001b[39;49m\u001b[43merror_handler\u001b[49m\u001b[38;5;241;43m.\u001b[39;49m\u001b[43mcheck_response\u001b[49m\u001b[43m(\u001b[49m\u001b[43mresponse\u001b[49m\u001b[43m)\u001b[49m\n\u001b[0;32m    348\u001b[0m     response[\u001b[38;5;124m\"\u001b[39m\u001b[38;5;124mvalue\u001b[39m\u001b[38;5;124m\"\u001b[39m] \u001b[38;5;241m=\u001b[39m \u001b[38;5;28mself\u001b[39m\u001b[38;5;241m.\u001b[39m_unwrap_value(response\u001b[38;5;241m.\u001b[39mget(\u001b[38;5;124m\"\u001b[39m\u001b[38;5;124mvalue\u001b[39m\u001b[38;5;124m\"\u001b[39m, \u001b[38;5;28;01mNone\u001b[39;00m))\n\u001b[0;32m    349\u001b[0m     \u001b[38;5;28;01mreturn\u001b[39;00m response\n",
      "File \u001b[1;32m~\\AppData\\Local\\Packages\\PythonSoftwareFoundation.Python.3.11_qbz5n2kfra8p0\\LocalCache\\local-packages\\Python311\\site-packages\\selenium\\webdriver\\remote\\errorhandler.py:229\u001b[0m, in \u001b[0;36mErrorHandler.check_response\u001b[1;34m(self, response)\u001b[0m\n\u001b[0;32m    227\u001b[0m         alert_text \u001b[38;5;241m=\u001b[39m value[\u001b[38;5;124m\"\u001b[39m\u001b[38;5;124malert\u001b[39m\u001b[38;5;124m\"\u001b[39m]\u001b[38;5;241m.\u001b[39mget(\u001b[38;5;124m\"\u001b[39m\u001b[38;5;124mtext\u001b[39m\u001b[38;5;124m\"\u001b[39m)\n\u001b[0;32m    228\u001b[0m     \u001b[38;5;28;01mraise\u001b[39;00m exception_class(message, screen, stacktrace, alert_text)  \u001b[38;5;66;03m# type: ignore[call-arg]  # mypy is not smart enough here\u001b[39;00m\n\u001b[1;32m--> 229\u001b[0m \u001b[38;5;28;01mraise\u001b[39;00m exception_class(message, screen, stacktrace)\n",
      "\u001b[1;31mNoSuchElementException\u001b[0m: Message: no such element: Unable to locate element: {\"method\":\"css selector\",\"selector\":\"#app > div.v-application--wrap > main > div > div > div > div:nth-child(1) > div > div.caracteristicas.mt-4.pt-4 > div:nth-child(3)\"}\n  (Session info: chrome=121.0.6167.185); For documentation on this error, please visit: https://www.selenium.dev/documentation/webdriver/troubleshooting/errors#no-such-element-exception\nStacktrace:\n\tGetHandleVerifier [0x00007FF7A35A7012+3522402]\n\t(No symbol) [0x00007FF7A31C8352]\n\t(No symbol) [0x00007FF7A3075ABB]\n\t(No symbol) [0x00007FF7A30BBF0E]\n\t(No symbol) [0x00007FF7A30BC08C]\n\t(No symbol) [0x00007FF7A30FE437]\n\t(No symbol) [0x00007FF7A30DF09F]\n\t(No symbol) [0x00007FF7A30FBDA3]\n\t(No symbol) [0x00007FF7A30DEE03]\n\t(No symbol) [0x00007FF7A30AF4D4]\n\t(No symbol) [0x00007FF7A30B05F1]\n\tGetHandleVerifier [0x00007FF7A35D9B9D+3730157]\n\tGetHandleVerifier [0x00007FF7A362F02D+4079485]\n\tGetHandleVerifier [0x00007FF7A36275D3+4048163]\n\tGetHandleVerifier [0x00007FF7A32FA649+718233]\n\t(No symbol) [0x00007FF7A31D4A3F]\n\t(No symbol) [0x00007FF7A31CFA94]\n\t(No symbol) [0x00007FF7A31CFBC2]\n\t(No symbol) [0x00007FF7A31BF2E4]\n\tBaseThreadInitThunk [0x00007FFEC060257D+29]\n\tRtlUserThreadStart [0x00007FFEC28AAA58+40]\n"
     ]
    }
   ],
   "source": [
    "driver = webdriver.Chrome()\n",
    "\n",
    "driver.maximize_window()\n",
    "\n",
    "driver.get(\"https://www.casadellibro.com/\")\n",
    "\n",
    "sleep(4)\n",
    "\n",
    "driver.find_element(\"css selector\", \"#onetrust-accept-btn-handler\").click() \n",
    "\n",
    "driver.find_element(\"css selector\", \"#app > div.v-application--wrap > div.when-mobile > div.cabecera.desktop > div.bottom-row > div > div > div:nth-child(2) > a\").click()\n",
    "\n",
    "sleep(4)\n",
    "\n",
    "\n",
    "# # Sacar selectores del primer producto\n",
    "\n",
    "# driver.find_element(\"css selector\", \"#buscadorNF > div.col-md-9.col-12 > div > div.grid-view.mt-4 > div:nth-child(1) > a > div > img\").click()\n",
    "\n",
    "# sleep(5)\n",
    "\n",
    "# titulo = driver.find_element(\"css selector\", \"#app > div.v-application--wrap > main > div > div > div > div:nth-child(3) > div > div.col-md-5.order-lg-2.col-12.order-1 > div > h1\").text\n",
    "# print(titulo)\n",
    "\n",
    "# autor = driver.find_element(\"css selector\", \"#app > div.v-application--wrap > main > div > div > div > div:nth-child(3) > div > div.col-md-5.order-lg-2.col-12.order-1 > div > div.text-h5.d-flex.flex-wrap.author.mb-2.justify-center.justify-sm-start > div > a > span:nth-child(1)\").text\n",
    "# print(autor)\n",
    "\n",
    "# precio = driver.find_element(\"css selector\",\"#app > div.v-application--wrap > main > div > div > div > div:nth-child(3) > div > div.border-left.col-md-4.col-12.order-3 > div > div:nth-child(3) > div.col.col-8 > strong\").text\n",
    "# print(precio)\n",
    "\n",
    "# editorial = driver.find_element(\"css selector\",\"#app > div.v-application--wrap > main > div > div > div > div:nth-child(3) > div > div.col-md-5.order-lg-2.col-12.order-1 > div > div.d-none.d-md-inline > div:nth-child(1) > span:nth-child(1)\").text\n",
    "# print(editorial)\n",
    "\n",
    "# idioma = driver.find_element(\"css selector\",\"#app > div.v-application--wrap > main > div > div > div > div:nth-child(6) > div > div.caracteristicas.mt-4.pt-4 > div:nth-child(3)\").text\n",
    "# print(idioma)\n",
    "\n",
    "# numero_páginas = driver.find_element(\"css selector\", \"#app > div.v-application--wrap > main > div > div > div > div:nth-child(6) > div > div.caracteristicas.mt-4.pt-4 > div:nth-child(1)\").text\n",
    "# print(numero_páginas)\n",
    "\n",
    "# sleep(5)\n",
    "\n",
    "diccionario_ficcion = {\"titulo\":[],\"autor\":[],\"precio\":[],\"editorial\":[],\"idioma\":[],\"numero_paginas\":[]}\n",
    "\n",
    "for i in range(1,4):\n",
    "\n",
    "    sleep(5)\n",
    "\n",
    "    driver.find_element(\"css selector\" ,f\"#buscadorNF > div.col-md-9.col-12 > div > div.grid-view.mt-4 > div:nth-child({i}) > a > div > img\").click()\n",
    "\n",
    "    sleep(6)\n",
    "\n",
    "    diccionario_ficcion[\"titulo\"].append( driver.find_element(\"css selector\", \"#app > div.v-application--wrap > main > div > div > div > div:nth-child(3) > div > div.col-md-5.order-lg-2.col-12.order-1 > div > h1\" ).text)\n",
    "    diccionario_ficcion[\"autor\"].append(driver.find_element(\"css selector\", \"#app > div.v-application--wrap > main > div > div > div > div:nth-child(3) > div > div.col-md-5.order-lg-2.col-12.order-1 > div > div.text-h5.d-flex.flex-wrap.author.mb-2.justify-center.justify-sm-start > div > a > span:nth-child(1)\" ).text)\n",
    "    diccionario_ficcion[\"precio\"].append(driver.find_element(\"css selector\", \"#app > div.v-application--wrap > main > div > div > div > div:nth-child(3) > div > div.border-left.col-md-4.col-12.order-3 > div > div:nth-child(3) > div.col.col-8 > strong\").text)\n",
    "    diccionario_ficcion[\"editorial\"].append(driver.find_element(\"css selector\", \"#app > div.v-application--wrap > main > div > div > div > div:nth-child(3) > div > div.col-md-5.order-lg-2.col-12.order-1 > div > div.d-none.d-md-inline > div:nth-child(1) > span:nth-child(1)\").text)\n",
    "\n",
    "\n",
    "   \n",
    "    \n",
    "        # diccionario_ficcion[\"idioma\"].append(driver.find_element(\"css selector\", f\"#app > div.v-application--wrap > main > div > div > div > div:nth-child({f}) > div > div.caracteristicas.mt-4.pt-4 > div:nth-child(3)\").text)\n",
    "        # diccionario_ficcion[\"numero_paginas\"].append(driver.find_element(\"css selector\", \"#app > div.v-application--wrap > main > div > div > div > div:nth-child(7) > div > div.caracteristicas.mt-4.pt-4 > div:nth-child(1)\").text)\n",
    "\n",
    "        sleep(3)\n",
    "\n",
    "        driver.back()\n",
    "        \n",
    "print(diccionario_ficcion)\n"
   ]
  },
  {
   "cell_type": "code",
   "execution_count": null,
   "metadata": {},
   "outputs": [],
   "source": [
    "#  #app > div.v-application--wrap > main > div > div > div > div:nth-child(6) > div > div.caracteristicas.mt-4.pt-4 > div:nth-child(3)"
   ]
  },
  {
   "cell_type": "code",
   "execution_count": null,
   "metadata": {},
   "outputs": [],
   "source": [
    "# Inicializar variables para idioma y número de páginas\n",
    "idioma = \n",
    "num_pagina_numero="
   ]
  },
  {
   "cell_type": "code",
   "execution_count": null,
   "metadata": {},
   "outputs": [],
   "source": [
    "try:\n",
    "    idioma_element =  driver.find_element(\"css selector\", f\"#app > div.v-application--wrap > main > div > div > div > div:nth-child({f}) > div > div.caracteristicas.mt-4.pt-4 > div:nth-child(3)\").text)\n",
    "    num_paginas_element = driver.find_element_by_xpath(...).text)      # Extraer el número de páginas como un número entero\n",
    "    num_paginas_numero =int(num_paginas_text.split()[0])      \n",
    "\n",
    "    except \n",
    "            Exception as e:\n",
    "            print(f\"Error al extraer información adicional del libro: {e}\")                # Agregar los datos a las listas\n",
    "            idiomas.append(idioma)\n",
    "            num_paginas.append(num_paginas_numero)    # Volver a la página de libros de ficción\n",
    "            driver.back()\n",
    "    "
   ]
  }
 ],
 "metadata": {
  "kernelspec": {
   "display_name": "Python 3",
   "language": "python",
   "name": "python3"
  },
  "language_info": {
   "codemirror_mode": {
    "name": "ipython",
    "version": 3
   },
   "file_extension": ".py",
   "mimetype": "text/x-python",
   "name": "python",
   "nbconvert_exporter": "python",
   "pygments_lexer": "ipython3",
   "version": "3.11.8"
  }
 },
 "nbformat": 4,
 "nbformat_minor": 2
}
